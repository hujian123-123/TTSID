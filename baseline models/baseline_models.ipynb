{
 "cells": [
  {
   "cell_type": "code",
   "execution_count": 1,
   "outputs": [
    {
     "name": "stdout",
     "output_type": "stream",
     "text": [
      "device cuda:0\n"
     ]
    }
   ],
   "source": [
    "import time\n",
    "import os\n",
    "from tqdm import tqdm\n",
    "\n",
    "import pandas as pd\n",
    "import numpy as np\n",
    "from PIL import Image\n",
    "\n",
    "import torch\n",
    "import torchvision\n",
    "import torch.nn as nn\n",
    "import torch.nn.functional as F\n",
    "import cv2\n",
    "import shutil\n",
    "\n",
    "import matplotlib.pyplot as plt\n",
    "%matplotlib inline\n",
    "\n",
    "import warnings\n",
    "warnings.filterwarnings(\"ignore\")\n",
    "\n",
    "# Get the computing hardware\n",
    "device = torch.device('cuda:0' if torch.cuda.is_available() else 'cpu')\n",
    "print('device', device)"
   ],
   "metadata": {
    "collapsed": false,
    "pycharm": {
     "name": "#%%\n"
    }
   }
  },
  {
   "cell_type": "code",
   "execution_count": 2,
   "outputs": [
    {
     "data": {
      "text/plain": "['Lu_points', 'Rest_points', 'Traveling_points']"
     },
     "execution_count": 2,
     "metadata": {},
     "output_type": "execute_result"
    }
   ],
   "source": [
    "# classes = os.listdir(r'..\\SIDTA')\n",
    "classes = os.listdir(r'D:\\graduate\\经典代码\\代码学习\\poidata\\模型测试\\三分类\\数据集\\TTSID')\n",
    "classes"
   ],
   "metadata": {
    "collapsed": false,
    "pycharm": {
     "name": "#%%\n"
    }
   }
  },
  {
   "cell_type": "code",
   "execution_count": 3,
   "outputs": [],
   "source": [
    "# dataset_path = r'..\\SIDTA'\n",
    "# target_path = r'..\\Train_val_split'\n",
    "dataset_path = r'D:\\graduate\\经典代码\\代码学习\\poidata\\模型测试\\三分类\\数据集\\TTSID'\n",
    "target_path = r'D:\\graduate\\经典代码\\代码学习\\poidata\\模型测试\\三分类\\数据集\\train_val_split'"
   ],
   "metadata": {
    "collapsed": false,
    "pycharm": {
     "name": "#%%\n"
    }
   }
  },
  {
   "cell_type": "markdown",
   "source": [
    "## Load image classification dataset"
   ],
   "metadata": {
    "collapsed": false,
    "pycharm": {
     "name": "#%% md\n"
    }
   }
  },
  {
   "cell_type": "code",
   "execution_count": 6,
   "outputs": [
    {
     "name": "stdout",
     "output_type": "stream",
     "text": [
      "      Class        Training data num    Test data num   \n",
      "    Lu_points             800                200        \n",
      "   Rest_points            800                200        \n",
      " Traveling_points         800                200        \n"
     ]
    }
   ],
   "source": [
    "import random\n",
    "import shutil\n",
    "\n",
    "test_frac = 0.2  # Test set ratio\n",
    "random.seed(123)  # Random seed for reproducibility\n",
    "df = pd.DataFrame()\n",
    "print('{:^18} {:^18} {:^18}'.format('Class', 'Training data num', 'Test data num'))\n",
    "\n",
    "for truck_point in classes:  # Traverse each class\n",
    "    # Read all image filenames for this class\n",
    "    old_dir = os.path.join(dataset_path, truck_point)\n",
    "    images_filename = os.listdir(old_dir)\n",
    "    random.shuffle(images_filename)  # Randomly shuffle\n",
    "\n",
    "    # Divide into training set and test set\n",
    "    testset_numer = int(len(images_filename) * test_frac)  # Number of test set images\n",
    "    testset_images = images_filename[:testset_numer]  # Get the filenames of test set images to be moved to the test directory\n",
    "    trainset_images = images_filename[testset_numer:]  # Get the filenames of training set images to be moved to the train directory\n",
    "\n",
    "    # Move images to the test directory\n",
    "    for image in testset_images:\n",
    "        old_img_path = os.path.join(dataset_path, truck_point, image)  # Get the original file path\n",
    "        new_test_path = os.path.join(target_path, 'val', truck_point, image)  # Get the new file path for the test directory\n",
    "        # Create the output directory if it doesn't exist\n",
    "        if not os.path.exists(os.path.join(target_path, 'val', truck_point)):\n",
    "            os.makedirs(os.path.join(target_path, 'val', truck_point))\n",
    "        shutil.move(old_img_path, new_test_path)  # Move the file\n",
    "\n",
    "    # Move images to the train directory\n",
    "    for image in trainset_images:\n",
    "        old_img_path = os.path.join(dataset_path, truck_point, image)  # Get the original file path\n",
    "        new_train_path = os.path.join(target_path, 'train', truck_point, image)  # Get the new file path for the train directory\n",
    "        # Create the output directory if it doesn't exist\n",
    "        if not os.path.exists(os.path.join(target_path, 'train', truck_point)):\n",
    "            os.makedirs(os.path.join(target_path, 'train', truck_point))\n",
    "        shutil.move(old_img_path, new_train_path)  # Move the file\n",
    "\n",
    "    # Delete the old folder\n",
    "    assert len(os.listdir(old_dir)) == 0  # Ensure that all images in the old folder have been moved away\n",
    "    # shutil.rmtree(old_dir)  # Delete the folder\n",
    "\n",
    "    # Output the data count for each class in a neat way\n",
    "    print('{:^18} {:^18} {:^18}'.format(truck_point, len(trainset_images), len(testset_images)))\n",
    "\n",
    "    # Save to the dataframe\n",
    "    df = df.append({'class': truck_point, 'trainset': len(trainset_images), 'testset': len(testset_images)},\n",
    "                   ignore_index=True)\n",
    "\n",
    "# Rename the dataset folder\n",
    "# shutil.move(dataset_path, dataset_name + '_split')\n",
    "\n",
    "# Dataset class count statistics table, exported as a csv file\n",
    "# df['total'] = df['trainset'] + df['testset']\n",
    "# df.to_csv('data_stats.csv', index=False)\n"
   ],
   "metadata": {
    "collapsed": false,
    "pycharm": {
     "name": "#%%\n"
    }
   }
  },
  {
   "cell_type": "code",
   "execution_count": 8,
   "outputs": [],
   "source": [
    "from torchvision import transforms\n",
    "\n",
    "# Preprocessing for the training set: scale and crop, data augmentation, convert to Tensor, and normalization\n",
    "train_transform = transforms.Compose([\n",
    "    transforms.RandomResizedCrop(224),\n",
    "    transforms.RandomHorizontalFlip(),\n",
    "    transforms.ToTensor(),\n",
    "    transforms.Normalize([0.485, 0.456, 0.406], [0.229, 0.224, 0.225])\n",
    "])\n",
    "\n",
    "# Preprocessing for the test set using RCTN: resize, crop, convert to Tensor, and normalization\n",
    "test_transform = transforms.Compose([\n",
    "    transforms.Resize(256),\n",
    "    transforms.CenterCrop(224),\n",
    "    transforms.ToTensor(),\n",
    "    transforms.Normalize(\n",
    "        mean=[0.485, 0.456, 0.406],\n",
    "        std=[0.229, 0.224, 0.225]\n",
    "    )\n",
    "])\n",
    "# '''for inception-v3'''\n",
    "# train_transform = transforms.Compose([\n",
    "#     transforms.Resize(299),\n",
    "#     transforms.CenterCrop(299),\n",
    "#     transforms.ToTensor(),\n",
    "#     transforms.Normalize(mean=[0.485, 0.456, 0.406],\n",
    "#                          std=[0.229, 0.224, 0.225])\n",
    "# ])\n",
    "#\n",
    "# test_transform = transforms.Compose([\n",
    "#     transforms.Resize(299),\n",
    "#     transforms.CenterCrop(299),\n",
    "#     transforms.ToTensor(),\n",
    "#     transforms.Normalize(mean=[0.485, 0.456, 0.406],\n",
    "#                          std=[0.229, 0.224, 0.225])\n",
    "# ])"
   ],
   "metadata": {
    "collapsed": false,
    "pycharm": {
     "name": "#%%\n"
    }
   }
  },
  {
   "cell_type": "code",
   "execution_count": 9,
   "outputs": [
    {
     "name": "stdout",
     "output_type": "stream",
     "text": [
      "Training set path: D:\\graduate\\经典代码\\代码学习\\poidata\\模型测试\\三分类\\数据集\\train_val_split\\train\n",
      "Test set path: D:\\graduate\\经典代码\\代码学习\\poidata\\模型测试\\三分类\\数据集\\train_val_split\\val\n",
      "Number of images in the training set: 2400\n",
      "Number of classes: 3\n",
      "Class names: ['Lu_points', 'Rest_points', 'Traveling_points']\n",
      "Number of images in the test set: 600\n",
      "Number of classes: 3\n",
      "Class names: ['Lu_points', 'Rest_points', 'Traveling_points']\n"
     ]
    }
   ],
   "source": [
    "train_path = os.path.join(target_path, 'train')\n",
    "test_path = os.path.join(target_path, 'val')\n",
    "print('Training set path:', train_path)\n",
    "print('Test set path:', test_path)\n",
    "\n",
    "from torchvision import datasets\n",
    "# Load the training set\n",
    "train_dataset = datasets.ImageFolder(train_path, train_transform)\n",
    "# Load the test set\n",
    "test_dataset = datasets.ImageFolder(test_path, test_transform)\n",
    "\n",
    "print('Number of images in the training set:', len(train_dataset))\n",
    "print('Number of classes:', len(train_dataset.classes))\n",
    "print('Class names:', train_dataset.classes)\n",
    "print('Number of images in the test set:', len(test_dataset))\n",
    "print('Number of classes:', len(test_dataset.classes))\n",
    "print('Class names:', test_dataset.classes)"
   ],
   "metadata": {
    "collapsed": false,
    "pycharm": {
     "name": "#%%\n"
    }
   }
  },
  {
   "cell_type": "markdown",
   "source": [
    "## Category and index number Mapping dictionary"
   ],
   "metadata": {
    "collapsed": false,
    "pycharm": {
     "name": "#%% md\n"
    }
   }
  },
  {
   "cell_type": "code",
   "execution_count": 10,
   "outputs": [],
   "source": [
    "# Class names\n",
    "class_names = train_dataset.classes\n",
    "n_class = len(class_names)\n",
    "\n",
    "# Mapping dictionary: class names to index numbers\n",
    "train_dataset.class_to_idx\n",
    "\n",
    "# Reverse mapping dictionary: index numbers to class names\n",
    "idx_to_labels = {y:x for x,y in train_dataset.class_to_idx.items()}"
   ],
   "metadata": {
    "collapsed": false,
    "pycharm": {
     "name": "#%%\n"
    }
   }
  },
  {
   "cell_type": "code",
   "execution_count": 14,
   "outputs": [],
   "source": [
    "np.save('idx_to_labels.npy', idx_to_labels)"
   ],
   "metadata": {
    "collapsed": false,
    "pycharm": {
     "name": "#%%\n"
    }
   }
  },
  {
   "cell_type": "markdown",
   "source": [
    "## Define the DataLoader"
   ],
   "metadata": {
    "collapsed": false,
    "pycharm": {
     "name": "#%% md\n"
    }
   }
  },
  {
   "cell_type": "code",
   "execution_count": 25,
   "outputs": [],
   "source": [
    "from torch.utils.data import DataLoader\n",
    "\n",
    "BATCH_SIZE = 32\n",
    "\n",
    "# Data loaders for the training set\n",
    "train_loader = DataLoader(train_dataset,\n",
    "                          batch_size=BATCH_SIZE,\n",
    "                          shuffle=True,\n",
    "                          num_workers=4\n",
    "                         )\n",
    "\n",
    "# Data loaders for the test set\n",
    "test_loader = DataLoader(test_dataset,\n",
    "                         batch_size=BATCH_SIZE,\n",
    "                         shuffle=False,\n",
    "                         num_workers=4\n",
    "                        )"
   ],
   "metadata": {
    "collapsed": false,
    "pycharm": {
     "name": "#%%\n"
    }
   }
  },
  {
   "cell_type": "markdown",
   "source": [
    "## Toolkits to use for import training"
   ],
   "metadata": {
    "collapsed": false,
    "pycharm": {
     "name": "#%% md\n"
    }
   }
  },
  {
   "cell_type": "code",
   "execution_count": 45,
   "outputs": [],
   "source": [
    "from torchvision import models\n",
    "import torch.optim as optim\n",
    "from torch.optim import lr_scheduler"
   ],
   "metadata": {
    "collapsed": false,
    "pycharm": {
     "name": "#%%\n"
    }
   }
  },
  {
   "cell_type": "markdown",
   "source": [
    "### Migration learning: fine-tuning training all layers"
   ],
   "metadata": {
    "collapsed": false,
    "pycharm": {
     "name": "#%% md\n"
    }
   }
  },
  {
   "cell_type": "code",
   "execution_count": 55,
   "outputs": [],
   "source": [
    "# ShuffleNet V2\n",
    "model = models.shufflenet_v2_x2_0(pretrained=True)  # Load the pre-trained model\n",
    "# Modify the number of output features of the fully connected layer\n",
    "model.heads.head = nn.Linear(model.heads.head.in_features, n_class)\n",
    "\n",
    "optimizer = optim.Adam(model.parameters())"
   ],
   "metadata": {
    "collapsed": false,
    "pycharm": {
     "name": "#%%\n"
    }
   }
  },
  {
   "cell_type": "code",
   "execution_count": 12,
   "outputs": [],
   "source": [
    "# ResNet50\n",
    "model = models.resnet50(pretrained=True)  # Load the pre-trained model\n",
    "# Modify the number of output features of the fully connected layer\n",
    "model.fc = nn.Linear(model.fc.in_features, n_class)\n",
    "\n",
    "optimizer = optim.Adam(model.parameters())"
   ],
   "metadata": {
    "collapsed": false,
    "pycharm": {
     "name": "#%%\n"
    }
   }
  },
  {
   "cell_type": "code",
   "execution_count": 12,
   "outputs": [],
   "source": [
    "# Inception V3\n",
    "model = models.inception_v3(pretrained=True)  # Load the pre-trained model\n",
    "# Modify the number of output features of the fully connected layer\n",
    "model.fc = nn.Linear(model.fc.in_features, n_class)\n",
    "\n",
    "optimizer = optim.Adam(model.parameters())"
   ],
   "metadata": {
    "collapsed": false,
    "pycharm": {
     "name": "#%%\n"
    }
   }
  },
  {
   "cell_type": "markdown",
   "source": [
    "## Training configurations"
   ],
   "metadata": {
    "collapsed": false,
    "pycharm": {
     "name": "#%% md\n"
    }
   }
  },
  {
   "cell_type": "code",
   "execution_count": 46,
   "outputs": [],
   "source": [
    "model = model.to(device)\n",
    "\n",
    "# Cross-entropy loss function\n",
    "criterion = nn.CrossEntropyLoss()\n",
    "\n",
    "# Number of training epochs\n",
    "EPOCHS = 30\n",
    "\n",
    "# Learning rate reduction strategy\n",
    "lr_scheduler = lr_scheduler.StepLR(optimizer, step_size=5, gamma=0.5)"
   ],
   "metadata": {
    "collapsed": false,
    "pycharm": {
     "name": "#%%\n"
    }
   }
  },
  {
   "cell_type": "markdown",
   "source": [
    "## Training on the training set"
   ],
   "metadata": {
    "collapsed": false,
    "pycharm": {
     "name": "#%% md\n"
    }
   }
  },
  {
   "cell_type": "code",
   "execution_count": 18,
   "outputs": [],
   "source": [
    "from sklearn.metrics import precision_score\n",
    "from sklearn.metrics import recall_score\n",
    "from sklearn.metrics import accuracy_score\n",
    "from sklearn.metrics import f1_score\n",
    "from sklearn.metrics import roc_auc_score"
   ],
   "metadata": {
    "collapsed": false,
    "pycharm": {
     "name": "#%%\n"
    }
   }
  },
  {
   "cell_type": "code",
   "execution_count": 19,
   "outputs": [],
   "source": [
    "def train_one_batch(images, labels):\n",
    "    '''\n",
    "    Train one batch of data and return the training log for the current batch\n",
    "    '''\n",
    "\n",
    "    # Get the data and labels for a batch\n",
    "    images = images.to(device)\n",
    "    labels = labels.to(device)\n",
    "\n",
    "    outputs = model(images) # Input the model and execute forward prediction\n",
    "    loss = criterion(outputs, labels) # Compute the average cross-entropy loss for each sample in the current batch\n",
    "\n",
    "    # Optimize and update the weights\n",
    "    optimizer.zero_grad()\n",
    "    loss.backward()\n",
    "    optimizer.step()\n",
    "\n",
    "    # Get the label categories and predicted categories for the current batch\n",
    "    _, preds = torch.max(outputs, 1) # Get the predicted category for all images in the current batch\n",
    "    preds = preds.cpu().numpy()\n",
    "    loss = loss.detach().cpu().numpy()\n",
    "    outputs = outputs.detach().cpu().numpy()\n",
    "    labels = labels.detach().cpu().numpy()\n",
    "\n",
    "    log_train = {}\n",
    "    log_train['epoch'] = epoch\n",
    "    log_train['batch'] = batch_idx\n",
    "    # Calculate classification evaluation metrics\n",
    "    log_train['train_loss'] = loss\n",
    "    log_train['train_accuracy'] = accuracy_score(labels, preds)\n",
    "    # log_train['train_precision'] = precision_score(labels, preds, average='macro')\n",
    "    # log_train['train_recall'] = recall_score(labels, preds, average='macro')\n",
    "    # log_train['train_f1-score'] = f1_score(labels, preds, average='macro')\n",
    "\n",
    "    return log_train"
   ],
   "metadata": {
    "collapsed": false,
    "pycharm": {
     "name": "#%%\n"
    }
   }
  },
  {
   "cell_type": "markdown",
   "source": [
    "## Evaluate on the entire test set"
   ],
   "metadata": {
    "collapsed": false,
    "pycharm": {
     "name": "#%% md\n"
    }
   }
  },
  {
   "cell_type": "code",
   "execution_count": 22,
   "outputs": [],
   "source": [
    "def evaluate_testset():\n",
    "    '''\n",
    "    Evaluate on the entire test set and return classification evaluation metrics log\n",
    "    '''\n",
    "\n",
    "    loss_list = []\n",
    "    labels_list = []\n",
    "    preds_list = []\n",
    "\n",
    "    with torch.no_grad():\n",
    "        for images, labels in test_loader: # generate a batch of data and labels\n",
    "            images = images.to(device)\n",
    "            labels = labels.to(device)\n",
    "            outputs = model(images) # input to the model and execute forward prediction\n",
    "\n",
    "            # get the label and prediction for the entire test set\n",
    "            _, preds = torch.max(outputs, 1) # get the predicted class for all images in the current batch\n",
    "            preds = preds.cpu().numpy()\n",
    "            loss = criterion(outputs, labels) # compute the average cross-entropy loss value for each sample in the current batch\n",
    "            loss = loss.detach().cpu().numpy()\n",
    "            outputs = outputs.detach().cpu().numpy()\n",
    "            labels = labels.detach().cpu().numpy()\n",
    "\n",
    "            loss_list.append(loss)\n",
    "            labels_list.extend(labels)\n",
    "            preds_list.extend(preds)\n",
    "\n",
    "    log_test = {}\n",
    "    log_test['epoch'] = epoch\n",
    "\n",
    "    # calculate classification evaluation metrics\n",
    "    log_test['test_loss'] = np.mean(loss)\n",
    "    log_test['test_accuracy'] = accuracy_score(labels_list, preds_list)\n",
    "    log_test['test_precision'] = precision_score(labels_list, preds_list, average='macro')\n",
    "    log_test['test_recall'] = recall_score(labels_list, preds_list, average='macro')\n",
    "    log_test['test_f1-score'] = f1_score(labels_list, preds_list, average='macro')\n",
    "\n",
    "    return log_test\n",
    "\n",
    "def evaluate_train():\n",
    "    '''\n",
    "    Evaluate on the entire train set and return classification evaluation metrics log\n",
    "    '''\n",
    "\n",
    "    loss_list = []\n",
    "    labels_list = []\n",
    "    preds_list = []\n",
    "\n",
    "    with torch.no_grad():\n",
    "        for images, labels in train_loader: # generate a batch of data and labels\n",
    "            images = images.to(device)\n",
    "            labels = labels.to(device)\n",
    "            outputs = model(images) # input to the model and execute forward prediction\n",
    "\n",
    "            # get the label and prediction for the entire train set\n",
    "            _, preds = torch.max(outputs, 1) # get the predicted class for all images in the current batch\n",
    "            preds = preds.cpu().numpy()\n",
    "            loss = criterion(outputs, labels) # compute the average cross-entropy loss value for each sample in the current batch\n",
    "            loss = loss.detach().cpu().numpy()\n",
    "            outputs = outputs.detach().cpu().numpy()\n",
    "            labels = labels.detach().cpu().numpy()\n",
    "\n",
    "            loss_list.append(loss)\n",
    "            labels_list.extend(labels)\n",
    "            preds_list.extend(preds)\n",
    "\n",
    "    log_test = {}\n",
    "    log_test['epoch'] = epoch\n",
    "\n",
    "    # calculate classification evaluation metrics\n",
    "    log_test['test_loss'] = np.mean(loss)\n",
    "    log_test['test_accuracy'] = accuracy_score(labels_list, preds_list)\n",
    "    log_test['test_precision'] = precision_score(labels_list, preds_list, average='macro')\n",
    "    log_test['test_recall'] = recall_score(labels_list, preds_list, average='macro')\n",
    "    log_test['test_f1-score'] = f1_score(labels_list, preds_list, average='macro')\n",
    "\n",
    "    return log_test"
   ],
   "metadata": {
    "collapsed": false,
    "pycharm": {
     "name": "#%%\n"
    }
   }
  },
  {
   "cell_type": "markdown",
   "source": [
    "## Keep a log before training begins"
   ],
   "metadata": {
    "collapsed": false,
    "pycharm": {
     "name": "#%% md\n"
    }
   }
  },
  {
   "cell_type": "code",
   "execution_count": 47,
   "outputs": [],
   "source": [
    "epoch = 0\n",
    "batch_idx = 0\n",
    "best_test_accuracy = 0"
   ],
   "metadata": {
    "collapsed": false,
    "pycharm": {
     "name": "#%%\n"
    }
   }
  },
  {
   "cell_type": "code",
   "execution_count": 48,
   "outputs": [],
   "source": [
    "# Train log - training set\n",
    "df_train_log = pd.DataFrame()\n",
    "log_train = {}\n",
    "log_train['epoch'] = 0\n",
    "log_train['batch'] = 0\n",
    "images, labels = next(iter(train_loader))\n",
    "log_train.update(train_one_batch(images, labels))\n",
    "df_train_log = df_train_log.append(log_train, ignore_index=True)"
   ],
   "metadata": {
    "collapsed": false,
    "pycharm": {
     "name": "#%%\n"
    }
   }
  },
  {
   "cell_type": "code",
   "execution_count": 49,
   "outputs": [
    {
     "data": {
      "text/plain": "   epoch  batch  train_loss  train_accuracy\n0      0      0  0.53515404          0.8125",
      "text/html": "<div>\n<style scoped>\n    .dataframe tbody tr th:only-of-type {\n        vertical-align: middle;\n    }\n\n    .dataframe tbody tr th {\n        vertical-align: top;\n    }\n\n    .dataframe thead th {\n        text-align: right;\n    }\n</style>\n<table border=\"1\" class=\"dataframe\">\n  <thead>\n    <tr style=\"text-align: right;\">\n      <th></th>\n      <th>epoch</th>\n      <th>batch</th>\n      <th>train_loss</th>\n      <th>train_accuracy</th>\n    </tr>\n  </thead>\n  <tbody>\n    <tr>\n      <th>0</th>\n      <td>0</td>\n      <td>0</td>\n      <td>0.53515404</td>\n      <td>0.8125</td>\n    </tr>\n  </tbody>\n</table>\n</div>"
     },
     "execution_count": 49,
     "metadata": {},
     "output_type": "execute_result"
    }
   ],
   "source": [
    "df_train_log"
   ],
   "metadata": {
    "collapsed": false,
    "pycharm": {
     "name": "#%%\n"
    }
   }
  },
  {
   "cell_type": "code",
   "execution_count": 50,
   "outputs": [],
   "source": [
    "# Test set training log\n",
    "df_test_log = pd.DataFrame()\n",
    "log_test = {}\n",
    "log_test['epoch'] = 0\n",
    "log_test.update(evaluate_testset())\n",
    "df_test_log = df_test_log.append(log_test, ignore_index=True)"
   ],
   "metadata": {
    "collapsed": false,
    "pycharm": {
     "name": "#%%\n"
    }
   }
  },
  {
   "cell_type": "code",
   "execution_count": 51,
   "outputs": [
    {
     "data": {
      "text/plain": "   epoch  test_loss  test_accuracy  test_precision  test_recall  test_f1-score\n0    0.0    0.00002       0.333333        0.111297     0.333333       0.166875",
      "text/html": "<div>\n<style scoped>\n    .dataframe tbody tr th:only-of-type {\n        vertical-align: middle;\n    }\n\n    .dataframe tbody tr th {\n        vertical-align: top;\n    }\n\n    .dataframe thead th {\n        text-align: right;\n    }\n</style>\n<table border=\"1\" class=\"dataframe\">\n  <thead>\n    <tr style=\"text-align: right;\">\n      <th></th>\n      <th>epoch</th>\n      <th>test_loss</th>\n      <th>test_accuracy</th>\n      <th>test_precision</th>\n      <th>test_recall</th>\n      <th>test_f1-score</th>\n    </tr>\n  </thead>\n  <tbody>\n    <tr>\n      <th>0</th>\n      <td>0.0</td>\n      <td>0.00002</td>\n      <td>0.333333</td>\n      <td>0.111297</td>\n      <td>0.333333</td>\n      <td>0.166875</td>\n    </tr>\n  </tbody>\n</table>\n</div>"
     },
     "execution_count": 51,
     "metadata": {},
     "output_type": "execute_result"
    }
   ],
   "source": [
    "df_test_log"
   ],
   "metadata": {
    "collapsed": false,
    "pycharm": {
     "name": "#%%\n"
    }
   }
  },
  {
   "cell_type": "markdown",
   "source": [
    "## Training"
   ],
   "metadata": {
    "collapsed": false,
    "pycharm": {
     "name": "#%% md\n"
    }
   }
  },
  {
   "cell_type": "code",
   "execution_count": 52,
   "outputs": [
    {
     "name": "stdout",
     "output_type": "stream",
     "text": [
      "Epoch 1/30\n"
     ]
    },
    {
     "name": "stderr",
     "output_type": "stream",
     "text": [
      "100%|██████████| 75/75 [01:05<00:00,  1.14it/s]\n"
     ]
    },
    {
     "name": "stdout",
     "output_type": "stream",
     "text": [
      "Saved new best model checkpoints/best-0.000.pth\n",
      "Epoch 2/30\n"
     ]
    },
    {
     "name": "stderr",
     "output_type": "stream",
     "text": [
      "100%|██████████| 75/75 [00:49<00:00,  1.51it/s]\n"
     ]
    },
    {
     "name": "stdout",
     "output_type": "stream",
     "text": [
      "Saved new best model checkpoints/best-0.503.pth\n",
      "Epoch 3/30\n"
     ]
    },
    {
     "name": "stderr",
     "output_type": "stream",
     "text": [
      "100%|██████████| 75/75 [00:48<00:00,  1.53it/s]\n"
     ]
    },
    {
     "name": "stdout",
     "output_type": "stream",
     "text": [
      "Epoch 4/30\n"
     ]
    },
    {
     "name": "stderr",
     "output_type": "stream",
     "text": [
      "100%|██████████| 75/75 [00:49<00:00,  1.53it/s]\n"
     ]
    },
    {
     "name": "stdout",
     "output_type": "stream",
     "text": [
      "Saved new best model checkpoints/best-0.857.pth\n",
      "Epoch 5/30\n"
     ]
    },
    {
     "name": "stderr",
     "output_type": "stream",
     "text": [
      "100%|██████████| 75/75 [00:48<00:00,  1.54it/s]\n"
     ]
    },
    {
     "name": "stdout",
     "output_type": "stream",
     "text": [
      "Saved new best model checkpoints/best-0.888.pth\n",
      "Epoch 6/30\n"
     ]
    },
    {
     "name": "stderr",
     "output_type": "stream",
     "text": [
      "100%|██████████| 75/75 [00:48<00:00,  1.53it/s]\n"
     ]
    },
    {
     "name": "stdout",
     "output_type": "stream",
     "text": [
      "Saved new best model checkpoints/best-0.910.pth\n",
      "Epoch 7/30\n"
     ]
    },
    {
     "name": "stderr",
     "output_type": "stream",
     "text": [
      "100%|██████████| 75/75 [00:48<00:00,  1.53it/s]\n"
     ]
    },
    {
     "name": "stdout",
     "output_type": "stream",
     "text": [
      "Epoch 8/30\n"
     ]
    },
    {
     "name": "stderr",
     "output_type": "stream",
     "text": [
      "100%|██████████| 75/75 [00:47<00:00,  1.57it/s]\n"
     ]
    },
    {
     "name": "stdout",
     "output_type": "stream",
     "text": [
      "Epoch 9/30\n"
     ]
    },
    {
     "name": "stderr",
     "output_type": "stream",
     "text": [
      "100%|██████████| 75/75 [00:49<00:00,  1.53it/s]\n"
     ]
    },
    {
     "name": "stdout",
     "output_type": "stream",
     "text": [
      "Saved new best model checkpoints/best-0.947.pth\n",
      "Epoch 10/30\n"
     ]
    },
    {
     "name": "stderr",
     "output_type": "stream",
     "text": [
      "100%|██████████| 75/75 [00:48<00:00,  1.53it/s]\n"
     ]
    },
    {
     "name": "stdout",
     "output_type": "stream",
     "text": [
      "Saved new best model checkpoints/best-0.952.pth\n",
      "Epoch 11/30\n"
     ]
    },
    {
     "name": "stderr",
     "output_type": "stream",
     "text": [
      "100%|██████████| 75/75 [00:48<00:00,  1.55it/s]\n"
     ]
    },
    {
     "name": "stdout",
     "output_type": "stream",
     "text": [
      "Saved new best model checkpoints/best-0.967.pth\n",
      "Epoch 12/30\n"
     ]
    },
    {
     "name": "stderr",
     "output_type": "stream",
     "text": [
      "100%|██████████| 75/75 [00:49<00:00,  1.53it/s]\n"
     ]
    },
    {
     "name": "stdout",
     "output_type": "stream",
     "text": [
      "Epoch 13/30\n"
     ]
    },
    {
     "name": "stderr",
     "output_type": "stream",
     "text": [
      "100%|██████████| 75/75 [00:48<00:00,  1.56it/s]\n"
     ]
    },
    {
     "name": "stdout",
     "output_type": "stream",
     "text": [
      "Epoch 14/30\n"
     ]
    },
    {
     "name": "stderr",
     "output_type": "stream",
     "text": [
      "100%|██████████| 75/75 [00:47<00:00,  1.57it/s]\n"
     ]
    },
    {
     "name": "stdout",
     "output_type": "stream",
     "text": [
      "Epoch 15/30\n"
     ]
    },
    {
     "name": "stderr",
     "output_type": "stream",
     "text": [
      "100%|██████████| 75/75 [00:49<00:00,  1.52it/s]\n"
     ]
    },
    {
     "name": "stdout",
     "output_type": "stream",
     "text": [
      "Saved new best model checkpoints/best-0.970.pth\n",
      "Epoch 16/30\n"
     ]
    },
    {
     "name": "stderr",
     "output_type": "stream",
     "text": [
      "100%|██████████| 75/75 [00:48<00:00,  1.54it/s]\n"
     ]
    },
    {
     "name": "stdout",
     "output_type": "stream",
     "text": [
      "Epoch 17/30\n"
     ]
    },
    {
     "name": "stderr",
     "output_type": "stream",
     "text": [
      "100%|██████████| 75/75 [00:49<00:00,  1.53it/s]\n"
     ]
    },
    {
     "name": "stdout",
     "output_type": "stream",
     "text": [
      "Epoch 18/30\n"
     ]
    },
    {
     "name": "stderr",
     "output_type": "stream",
     "text": [
      "100%|██████████| 75/75 [00:48<00:00,  1.55it/s]\n"
     ]
    },
    {
     "name": "stdout",
     "output_type": "stream",
     "text": [
      "Saved new best model checkpoints/best-0.973.pth\n",
      "Epoch 19/30\n"
     ]
    },
    {
     "name": "stderr",
     "output_type": "stream",
     "text": [
      "100%|██████████| 75/75 [00:53<00:00,  1.41it/s]\n"
     ]
    },
    {
     "name": "stdout",
     "output_type": "stream",
     "text": [
      "Epoch 20/30\n"
     ]
    },
    {
     "name": "stderr",
     "output_type": "stream",
     "text": [
      "100%|██████████| 75/75 [01:09<00:00,  1.08it/s]\n"
     ]
    },
    {
     "name": "stdout",
     "output_type": "stream",
     "text": [
      "Epoch 21/30\n"
     ]
    },
    {
     "name": "stderr",
     "output_type": "stream",
     "text": [
      "100%|██████████| 75/75 [01:04<00:00,  1.16it/s]\n"
     ]
    },
    {
     "name": "stdout",
     "output_type": "stream",
     "text": [
      "Saved new best model checkpoints/best-0.975.pth\n",
      "Epoch 22/30\n"
     ]
    },
    {
     "name": "stderr",
     "output_type": "stream",
     "text": [
      "100%|██████████| 75/75 [01:04<00:00,  1.16it/s]\n"
     ]
    },
    {
     "name": "stdout",
     "output_type": "stream",
     "text": [
      "Epoch 23/30\n"
     ]
    },
    {
     "name": "stderr",
     "output_type": "stream",
     "text": [
      "100%|██████████| 75/75 [01:10<00:00,  1.06it/s]\n"
     ]
    },
    {
     "name": "stdout",
     "output_type": "stream",
     "text": [
      "Epoch 24/30\n"
     ]
    },
    {
     "name": "stderr",
     "output_type": "stream",
     "text": [
      "100%|██████████| 75/75 [01:04<00:00,  1.16it/s]\n"
     ]
    },
    {
     "name": "stdout",
     "output_type": "stream",
     "text": [
      "Epoch 25/30\n"
     ]
    },
    {
     "name": "stderr",
     "output_type": "stream",
     "text": [
      "100%|██████████| 75/75 [01:06<00:00,  1.14it/s]\n"
     ]
    },
    {
     "name": "stdout",
     "output_type": "stream",
     "text": [
      "Epoch 26/30\n"
     ]
    },
    {
     "name": "stderr",
     "output_type": "stream",
     "text": [
      "100%|██████████| 75/75 [01:04<00:00,  1.15it/s]\n"
     ]
    },
    {
     "name": "stdout",
     "output_type": "stream",
     "text": [
      "Epoch 27/30\n"
     ]
    },
    {
     "name": "stderr",
     "output_type": "stream",
     "text": [
      "100%|██████████| 75/75 [01:09<00:00,  1.08it/s]\n"
     ]
    },
    {
     "name": "stdout",
     "output_type": "stream",
     "text": [
      "Epoch 28/30\n"
     ]
    },
    {
     "name": "stderr",
     "output_type": "stream",
     "text": [
      "100%|██████████| 75/75 [01:10<00:00,  1.07it/s]\n"
     ]
    },
    {
     "name": "stdout",
     "output_type": "stream",
     "text": [
      "Epoch 29/30\n"
     ]
    },
    {
     "name": "stderr",
     "output_type": "stream",
     "text": [
      "100%|██████████| 75/75 [03:20<00:00,  2.67s/it]\n"
     ]
    },
    {
     "name": "stdout",
     "output_type": "stream",
     "text": [
      "Epoch 30/30\n"
     ]
    },
    {
     "name": "stderr",
     "output_type": "stream",
     "text": [
      "100%|██████████| 75/75 [03:20<00:00,  2.68s/it]\n"
     ]
    }
   ],
   "source": [
    "for epoch in range(1, EPOCHS+1):\n",
    "\n",
    "    print(f'Epoch {epoch}/{EPOCHS}')\n",
    "\n",
    "    ## Training phase\n",
    "    model.train()\n",
    "    for images, labels in tqdm(train_loader):\n",
    "        batch_idx += 1\n",
    "        log_train = train_one_batch(images, labels)\n",
    "        df_train_log = df_train_log.append(log_train, ignore_index=True)\n",
    "\n",
    "    lr_scheduler.step()\n",
    "\n",
    "    ## Testing phase\n",
    "    model.eval()\n",
    "    log_test = evaluate_testset()\n",
    "    df_test_log = df_test_log.append(log_test, ignore_index=True)\n",
    "\n",
    "    # Save the latest best model file\n",
    "    if log_test['test_accuracy'] > best_test_accuracy:\n",
    "        # Delete the old best model file (if any)\n",
    "        old_best_checkpoint_path = 'checkpoints/best-{:.3f}.pth'.format(best_test_accuracy)\n",
    "        if os.path.exists(old_best_checkpoint_path):\n",
    "            os.remove(old_best_checkpoint_path)\n",
    "        # Save the new best model file\n",
    "        new_best_checkpoint_path = 'checkpoints/best-{:.3f}.pth'.format(log_test['test_accuracy'])\n",
    "        torch.save(model, new_best_checkpoint_path)\n",
    "        print('Saved new best model', 'checkpoints/best-{:.3f}.pth'.format(best_test_accuracy))\n",
    "        best_test_accuracy = log_test['test_accuracy']\n",
    "\n",
    "# df_train_log.to_csv('Training log - Training set.csv', index=False)\n",
    "# df_test_log.to_csv('Training log - Testing set.csv', index=False)"
   ],
   "metadata": {
    "collapsed": false,
    "pycharm": {
     "name": "#%%\n"
    }
   }
  },
  {
   "cell_type": "markdown",
   "source": [
    "## Evaluate on a test set"
   ],
   "metadata": {
    "collapsed": false,
    "pycharm": {
     "name": "#%% md\n"
    }
   }
  },
  {
   "cell_type": "code",
   "execution_count": 53,
   "outputs": [],
   "source": [
    "loss_list = []\n",
    "labels_list = []\n",
    "preds_list = []\n",
    "\n",
    "with torch.no_grad():\n",
    "    for images, labels in test_loader:\n",
    "        images = images.to(device)\n",
    "        labels = labels.to(device)\n",
    "        outputs = model(images)\n",
    "\n",
    "        _, preds = torch.max(outputs, 1)\n",
    "        preds = preds.cpu().numpy()\n",
    "        loss = criterion(outputs, labels)\n",
    "        loss = loss.detach().cpu().numpy()\n",
    "        outputs = outputs.detach().cpu().numpy()\n",
    "        labels = labels.detach().cpu().numpy()\n",
    "\n",
    "        loss_list.append(loss)\n",
    "        labels_list.extend(labels)\n",
    "        preds_list.extend(preds)\n",
    "\n",
    "log_test = {}\n",
    "log_test['test_loss'] = np.mean(loss)\n",
    "log_test['test_accuracy'] = accuracy_score(labels_list, preds_list)\n",
    "log_test['test_precision'] = precision_score(labels_list, preds_list, average='macro')\n",
    "log_test['test_recall'] = recall_score(labels_list, preds_list, average='macro')\n",
    "log_test['test_f1-score'] = f1_score(labels_list, preds_list, average='macro')"
   ],
   "metadata": {
    "collapsed": false,
    "pycharm": {
     "name": "#%%\n"
    }
   }
  },
  {
   "cell_type": "code",
   "execution_count": 54,
   "outputs": [
    {
     "name": "stdout",
     "output_type": "stream",
     "text": [
      "{'epoch': 30, 'test_loss': 0.053181097, 'test_accuracy': 0.9766666666666667, 'test_precision': 0.9767156659252341, 'test_recall': 0.9766666666666666, 'test_f1-score': 0.976657330345328}\n"
     ]
    }
   ],
   "source": [
    "model.eval()\n",
    "print(evaluate_train())"
   ],
   "metadata": {
    "collapsed": false,
    "pycharm": {
     "name": "#%%\n"
    }
   }
  },
  {
   "cell_type": "markdown",
   "source": [
    "## Classification observation results"
   ],
   "metadata": {
    "collapsed": false,
    "pycharm": {
     "name": "#%% md\n"
    }
   }
  },
  {
   "cell_type": "code",
   "execution_count": 55,
   "outputs": [
    {
     "name": "stdout",
     "output_type": "stream",
     "text": [
      "Number of images in test dataset: 600\n",
      "Number of classes: 3\n",
      "Class names: ['Lu_points', 'Rest_points', 'Traveling_points']\n",
      "['Lu_points', 'Rest_points', 'Traveling_points']\n"
     ]
    }
   ],
   "source": [
    "# Define the path of the dataset folder\n",
    "from torchvision import datasets\n",
    "\n",
    "# Load the test dataset\n",
    "test_dataset = datasets.ImageFolder(test_path, test_transform)\n",
    "print('Number of images in test dataset:', len(test_dataset))\n",
    "print('Number of classes:', len(test_dataset.classes))\n",
    "print('Class names:', test_dataset.classes)\n",
    "\n",
    "# Get the class names\n",
    "classes = list(idx_to_labels.values())\n",
    "print(classes)"
   ],
   "metadata": {
    "collapsed": false,
    "pycharm": {
     "name": "#%%\n"
    }
   }
  },
  {
   "cell_type": "code",
   "execution_count": 56,
   "outputs": [
    {
     "data": {
      "text/plain": "ResNet(\n  (conv1): Conv2d(3, 64, kernel_size=(7, 7), stride=(2, 2), padding=(3, 3), bias=False)\n  (bn1): BatchNorm2d(64, eps=1e-05, momentum=0.1, affine=True, track_running_stats=True)\n  (relu): ReLU(inplace=True)\n  (maxpool): MaxPool2d(kernel_size=3, stride=2, padding=1, dilation=1, ceil_mode=False)\n  (layer1): Sequential(\n    (0): Bottleneck(\n      (conv1): Conv2d(64, 64, kernel_size=(1, 1), stride=(1, 1), bias=False)\n      (bn1): BatchNorm2d(64, eps=1e-05, momentum=0.1, affine=True, track_running_stats=True)\n      (conv2): Conv2d(64, 64, kernel_size=(3, 3), stride=(1, 1), padding=(1, 1), bias=False)\n      (bn2): BatchNorm2d(64, eps=1e-05, momentum=0.1, affine=True, track_running_stats=True)\n      (conv3): Conv2d(64, 256, kernel_size=(1, 1), stride=(1, 1), bias=False)\n      (bn3): BatchNorm2d(256, eps=1e-05, momentum=0.1, affine=True, track_running_stats=True)\n      (relu): ReLU(inplace=True)\n      (downsample): Sequential(\n        (0): Conv2d(64, 256, kernel_size=(1, 1), stride=(1, 1), bias=False)\n        (1): BatchNorm2d(256, eps=1e-05, momentum=0.1, affine=True, track_running_stats=True)\n      )\n    )\n    (1): Bottleneck(\n      (conv1): Conv2d(256, 64, kernel_size=(1, 1), stride=(1, 1), bias=False)\n      (bn1): BatchNorm2d(64, eps=1e-05, momentum=0.1, affine=True, track_running_stats=True)\n      (conv2): Conv2d(64, 64, kernel_size=(3, 3), stride=(1, 1), padding=(1, 1), bias=False)\n      (bn2): BatchNorm2d(64, eps=1e-05, momentum=0.1, affine=True, track_running_stats=True)\n      (conv3): Conv2d(64, 256, kernel_size=(1, 1), stride=(1, 1), bias=False)\n      (bn3): BatchNorm2d(256, eps=1e-05, momentum=0.1, affine=True, track_running_stats=True)\n      (relu): ReLU(inplace=True)\n    )\n    (2): Bottleneck(\n      (conv1): Conv2d(256, 64, kernel_size=(1, 1), stride=(1, 1), bias=False)\n      (bn1): BatchNorm2d(64, eps=1e-05, momentum=0.1, affine=True, track_running_stats=True)\n      (conv2): Conv2d(64, 64, kernel_size=(3, 3), stride=(1, 1), padding=(1, 1), bias=False)\n      (bn2): BatchNorm2d(64, eps=1e-05, momentum=0.1, affine=True, track_running_stats=True)\n      (conv3): Conv2d(64, 256, kernel_size=(1, 1), stride=(1, 1), bias=False)\n      (bn3): BatchNorm2d(256, eps=1e-05, momentum=0.1, affine=True, track_running_stats=True)\n      (relu): ReLU(inplace=True)\n    )\n  )\n  (layer2): Sequential(\n    (0): Bottleneck(\n      (conv1): Conv2d(256, 128, kernel_size=(1, 1), stride=(1, 1), bias=False)\n      (bn1): BatchNorm2d(128, eps=1e-05, momentum=0.1, affine=True, track_running_stats=True)\n      (conv2): Conv2d(128, 128, kernel_size=(3, 3), stride=(2, 2), padding=(1, 1), bias=False)\n      (bn2): BatchNorm2d(128, eps=1e-05, momentum=0.1, affine=True, track_running_stats=True)\n      (conv3): Conv2d(128, 512, kernel_size=(1, 1), stride=(1, 1), bias=False)\n      (bn3): BatchNorm2d(512, eps=1e-05, momentum=0.1, affine=True, track_running_stats=True)\n      (relu): ReLU(inplace=True)\n      (downsample): Sequential(\n        (0): Conv2d(256, 512, kernel_size=(1, 1), stride=(2, 2), bias=False)\n        (1): BatchNorm2d(512, eps=1e-05, momentum=0.1, affine=True, track_running_stats=True)\n      )\n    )\n    (1): Bottleneck(\n      (conv1): Conv2d(512, 128, kernel_size=(1, 1), stride=(1, 1), bias=False)\n      (bn1): BatchNorm2d(128, eps=1e-05, momentum=0.1, affine=True, track_running_stats=True)\n      (conv2): Conv2d(128, 128, kernel_size=(3, 3), stride=(1, 1), padding=(1, 1), bias=False)\n      (bn2): BatchNorm2d(128, eps=1e-05, momentum=0.1, affine=True, track_running_stats=True)\n      (conv3): Conv2d(128, 512, kernel_size=(1, 1), stride=(1, 1), bias=False)\n      (bn3): BatchNorm2d(512, eps=1e-05, momentum=0.1, affine=True, track_running_stats=True)\n      (relu): ReLU(inplace=True)\n    )\n    (2): Bottleneck(\n      (conv1): Conv2d(512, 128, kernel_size=(1, 1), stride=(1, 1), bias=False)\n      (bn1): BatchNorm2d(128, eps=1e-05, momentum=0.1, affine=True, track_running_stats=True)\n      (conv2): Conv2d(128, 128, kernel_size=(3, 3), stride=(1, 1), padding=(1, 1), bias=False)\n      (bn2): BatchNorm2d(128, eps=1e-05, momentum=0.1, affine=True, track_running_stats=True)\n      (conv3): Conv2d(128, 512, kernel_size=(1, 1), stride=(1, 1), bias=False)\n      (bn3): BatchNorm2d(512, eps=1e-05, momentum=0.1, affine=True, track_running_stats=True)\n      (relu): ReLU(inplace=True)\n    )\n    (3): Bottleneck(\n      (conv1): Conv2d(512, 128, kernel_size=(1, 1), stride=(1, 1), bias=False)\n      (bn1): BatchNorm2d(128, eps=1e-05, momentum=0.1, affine=True, track_running_stats=True)\n      (conv2): Conv2d(128, 128, kernel_size=(3, 3), stride=(1, 1), padding=(1, 1), bias=False)\n      (bn2): BatchNorm2d(128, eps=1e-05, momentum=0.1, affine=True, track_running_stats=True)\n      (conv3): Conv2d(128, 512, kernel_size=(1, 1), stride=(1, 1), bias=False)\n      (bn3): BatchNorm2d(512, eps=1e-05, momentum=0.1, affine=True, track_running_stats=True)\n      (relu): ReLU(inplace=True)\n    )\n  )\n  (layer3): Sequential(\n    (0): Bottleneck(\n      (conv1): Conv2d(512, 256, kernel_size=(1, 1), stride=(1, 1), bias=False)\n      (bn1): BatchNorm2d(256, eps=1e-05, momentum=0.1, affine=True, track_running_stats=True)\n      (conv2): Conv2d(256, 256, kernel_size=(3, 3), stride=(2, 2), padding=(1, 1), bias=False)\n      (bn2): BatchNorm2d(256, eps=1e-05, momentum=0.1, affine=True, track_running_stats=True)\n      (conv3): Conv2d(256, 1024, kernel_size=(1, 1), stride=(1, 1), bias=False)\n      (bn3): BatchNorm2d(1024, eps=1e-05, momentum=0.1, affine=True, track_running_stats=True)\n      (relu): ReLU(inplace=True)\n      (downsample): Sequential(\n        (0): Conv2d(512, 1024, kernel_size=(1, 1), stride=(2, 2), bias=False)\n        (1): BatchNorm2d(1024, eps=1e-05, momentum=0.1, affine=True, track_running_stats=True)\n      )\n    )\n    (1): Bottleneck(\n      (conv1): Conv2d(1024, 256, kernel_size=(1, 1), stride=(1, 1), bias=False)\n      (bn1): BatchNorm2d(256, eps=1e-05, momentum=0.1, affine=True, track_running_stats=True)\n      (conv2): Conv2d(256, 256, kernel_size=(3, 3), stride=(1, 1), padding=(1, 1), bias=False)\n      (bn2): BatchNorm2d(256, eps=1e-05, momentum=0.1, affine=True, track_running_stats=True)\n      (conv3): Conv2d(256, 1024, kernel_size=(1, 1), stride=(1, 1), bias=False)\n      (bn3): BatchNorm2d(1024, eps=1e-05, momentum=0.1, affine=True, track_running_stats=True)\n      (relu): ReLU(inplace=True)\n    )\n    (2): Bottleneck(\n      (conv1): Conv2d(1024, 256, kernel_size=(1, 1), stride=(1, 1), bias=False)\n      (bn1): BatchNorm2d(256, eps=1e-05, momentum=0.1, affine=True, track_running_stats=True)\n      (conv2): Conv2d(256, 256, kernel_size=(3, 3), stride=(1, 1), padding=(1, 1), bias=False)\n      (bn2): BatchNorm2d(256, eps=1e-05, momentum=0.1, affine=True, track_running_stats=True)\n      (conv3): Conv2d(256, 1024, kernel_size=(1, 1), stride=(1, 1), bias=False)\n      (bn3): BatchNorm2d(1024, eps=1e-05, momentum=0.1, affine=True, track_running_stats=True)\n      (relu): ReLU(inplace=True)\n    )\n    (3): Bottleneck(\n      (conv1): Conv2d(1024, 256, kernel_size=(1, 1), stride=(1, 1), bias=False)\n      (bn1): BatchNorm2d(256, eps=1e-05, momentum=0.1, affine=True, track_running_stats=True)\n      (conv2): Conv2d(256, 256, kernel_size=(3, 3), stride=(1, 1), padding=(1, 1), bias=False)\n      (bn2): BatchNorm2d(256, eps=1e-05, momentum=0.1, affine=True, track_running_stats=True)\n      (conv3): Conv2d(256, 1024, kernel_size=(1, 1), stride=(1, 1), bias=False)\n      (bn3): BatchNorm2d(1024, eps=1e-05, momentum=0.1, affine=True, track_running_stats=True)\n      (relu): ReLU(inplace=True)\n    )\n    (4): Bottleneck(\n      (conv1): Conv2d(1024, 256, kernel_size=(1, 1), stride=(1, 1), bias=False)\n      (bn1): BatchNorm2d(256, eps=1e-05, momentum=0.1, affine=True, track_running_stats=True)\n      (conv2): Conv2d(256, 256, kernel_size=(3, 3), stride=(1, 1), padding=(1, 1), bias=False)\n      (bn2): BatchNorm2d(256, eps=1e-05, momentum=0.1, affine=True, track_running_stats=True)\n      (conv3): Conv2d(256, 1024, kernel_size=(1, 1), stride=(1, 1), bias=False)\n      (bn3): BatchNorm2d(1024, eps=1e-05, momentum=0.1, affine=True, track_running_stats=True)\n      (relu): ReLU(inplace=True)\n    )\n    (5): Bottleneck(\n      (conv1): Conv2d(1024, 256, kernel_size=(1, 1), stride=(1, 1), bias=False)\n      (bn1): BatchNorm2d(256, eps=1e-05, momentum=0.1, affine=True, track_running_stats=True)\n      (conv2): Conv2d(256, 256, kernel_size=(3, 3), stride=(1, 1), padding=(1, 1), bias=False)\n      (bn2): BatchNorm2d(256, eps=1e-05, momentum=0.1, affine=True, track_running_stats=True)\n      (conv3): Conv2d(256, 1024, kernel_size=(1, 1), stride=(1, 1), bias=False)\n      (bn3): BatchNorm2d(1024, eps=1e-05, momentum=0.1, affine=True, track_running_stats=True)\n      (relu): ReLU(inplace=True)\n    )\n  )\n  (layer4): Sequential(\n    (0): Bottleneck(\n      (conv1): Conv2d(1024, 512, kernel_size=(1, 1), stride=(1, 1), bias=False)\n      (bn1): BatchNorm2d(512, eps=1e-05, momentum=0.1, affine=True, track_running_stats=True)\n      (conv2): Conv2d(512, 512, kernel_size=(3, 3), stride=(2, 2), padding=(1, 1), bias=False)\n      (bn2): BatchNorm2d(512, eps=1e-05, momentum=0.1, affine=True, track_running_stats=True)\n      (conv3): Conv2d(512, 2048, kernel_size=(1, 1), stride=(1, 1), bias=False)\n      (bn3): BatchNorm2d(2048, eps=1e-05, momentum=0.1, affine=True, track_running_stats=True)\n      (relu): ReLU(inplace=True)\n      (downsample): Sequential(\n        (0): Conv2d(1024, 2048, kernel_size=(1, 1), stride=(2, 2), bias=False)\n        (1): BatchNorm2d(2048, eps=1e-05, momentum=0.1, affine=True, track_running_stats=True)\n      )\n    )\n    (1): Bottleneck(\n      (conv1): Conv2d(2048, 512, kernel_size=(1, 1), stride=(1, 1), bias=False)\n      (bn1): BatchNorm2d(512, eps=1e-05, momentum=0.1, affine=True, track_running_stats=True)\n      (conv2): Conv2d(512, 512, kernel_size=(3, 3), stride=(1, 1), padding=(1, 1), bias=False)\n      (bn2): BatchNorm2d(512, eps=1e-05, momentum=0.1, affine=True, track_running_stats=True)\n      (conv3): Conv2d(512, 2048, kernel_size=(1, 1), stride=(1, 1), bias=False)\n      (bn3): BatchNorm2d(2048, eps=1e-05, momentum=0.1, affine=True, track_running_stats=True)\n      (relu): ReLU(inplace=True)\n    )\n    (2): Bottleneck(\n      (conv1): Conv2d(2048, 512, kernel_size=(1, 1), stride=(1, 1), bias=False)\n      (bn1): BatchNorm2d(512, eps=1e-05, momentum=0.1, affine=True, track_running_stats=True)\n      (conv2): Conv2d(512, 512, kernel_size=(3, 3), stride=(1, 1), padding=(1, 1), bias=False)\n      (bn2): BatchNorm2d(512, eps=1e-05, momentum=0.1, affine=True, track_running_stats=True)\n      (conv3): Conv2d(512, 2048, kernel_size=(1, 1), stride=(1, 1), bias=False)\n      (bn3): BatchNorm2d(2048, eps=1e-05, momentum=0.1, affine=True, track_running_stats=True)\n      (relu): ReLU(inplace=True)\n    )\n  )\n  (avgpool): AdaptiveAvgPool2d(output_size=(1, 1))\n  (fc): Linear(in_features=2048, out_features=3, bias=True)\n)"
     },
     "execution_count": 56,
     "metadata": {},
     "output_type": "execute_result"
    }
   ],
   "source": [
    "model.to(device)"
   ],
   "metadata": {
    "collapsed": false,
    "pycharm": {
     "name": "#%%\n"
    }
   }
  },
  {
   "cell_type": "code",
   "execution_count": 57,
   "outputs": [],
   "source": [
    "img_paths = [each[0] for each in test_dataset.imgs]"
   ],
   "metadata": {
    "collapsed": false,
    "pycharm": {
     "name": "#%%\n"
    }
   }
  },
  {
   "cell_type": "code",
   "execution_count": 58,
   "outputs": [],
   "source": [
    "# Create an empty DataFrame\n",
    "df = pd.DataFrame()\n",
    "\n",
    "# Add a column for image paths\n",
    "df['Image Path'] = img_paths\n",
    "\n",
    "# Add a column for annotated class IDs\n",
    "df['Annotated Class ID'] = test_dataset.targets\n",
    "\n",
    "# Add a column for annotated class names by looking up the class ID in the mapping dictionary\n",
    "df['Annotated Class Name'] = [idx_to_labels[ID] for ID in test_dataset.targets]"
   ],
   "metadata": {
    "collapsed": false,
    "pycharm": {
     "name": "#%%\n"
    }
   }
  },
  {
   "cell_type": "code",
   "execution_count": 59,
   "outputs": [],
   "source": [
    "# Record top-n prediction results\n",
    "n = 3"
   ],
   "metadata": {
    "collapsed": false,
    "pycharm": {
     "name": "#%%\n"
    }
   }
  },
  {
   "cell_type": "code",
   "execution_count": 60,
   "outputs": [
    {
     "name": "stderr",
     "output_type": "stream",
     "text": [
      "600it [00:27, 21.83it/s]\n"
     ]
    }
   ],
   "source": [
    "# Create an empty DataFrame for prediction results\n",
    "df_pred = pd.DataFrame()\n",
    "\n",
    "# Iterate over each row in the DataFrame\n",
    "for idx, row in tqdm(df.iterrows()):\n",
    "    # Load and preprocess the image\n",
    "    img_path = row['Image Path']\n",
    "    img_pil = Image.open(img_path).convert('RGB')\n",
    "    input_img = test_transform(img_pil).unsqueeze(0).to(device)\n",
    "\n",
    "    # Make a forward prediction on the image\n",
    "    pred_logits = model(input_img)\n",
    "    pred_softmax = F.softmax(pred_logits, dim=1)\n",
    "\n",
    "    # Create a dictionary to store the prediction results\n",
    "    pred_dict = {}\n",
    "\n",
    "    # Record the top-n predicted IDs and names\n",
    "    top_n = torch.topk(pred_softmax, n)\n",
    "    pred_ids = top_n[1].cpu().detach().numpy().squeeze()\n",
    "    for i in range(1, n+1):\n",
    "        pred_dict['Top-{} Predicted ID'.format(i)] = pred_ids[i-1]\n",
    "        pred_dict['Top-{} Predicted Name'.format(i)] = idx_to_labels[pred_ids[i-1]]\n",
    "    pred_dict['Top-n Predicted Correct'] = row['Annotated Class ID'] in pred_ids\n",
    "\n",
    "    # Record the predicted confidence score for each class\n",
    "    for idx, each in enumerate(classes):\n",
    "        pred_dict['{} Predicted Confidence'.format(each)] = pred_softmax[0][idx].cpu().detach().numpy()\n",
    "\n",
    "    # Add the prediction results to the DataFrame\n",
    "    df_pred = df_pred.append(pred_dict, ignore_index=True)"
   ],
   "metadata": {
    "collapsed": false,
    "pycharm": {
     "name": "#%%\n"
    }
   }
  },
  {
   "cell_type": "code",
   "execution_count": 61,
   "outputs": [
    {
     "data": {
      "text/plain": "     Top-1 Predicted ID Top-1 Predicted Name  Top-2 Predicted ID  \\\n0                     0            Lu_points                   2   \n1                     0            Lu_points                   1   \n2                     0            Lu_points                   1   \n3                     0            Lu_points                   2   \n4                     0            Lu_points                   1   \n..                  ...                  ...                 ...   \n595                   2     Traveling_points                   1   \n596                   2     Traveling_points                   1   \n597                   2     Traveling_points                   1   \n598                   2     Traveling_points                   1   \n599                   2     Traveling_points                   1   \n\n    Top-2 Predicted Name  Top-3 Predicted ID Top-3 Predicted Name  \\\n0       Traveling_points                   1          Rest_points   \n1            Rest_points                   2     Traveling_points   \n2            Rest_points                   2     Traveling_points   \n3       Traveling_points                   1          Rest_points   \n4            Rest_points                   2     Traveling_points   \n..                   ...                 ...                  ...   \n595          Rest_points                   0            Lu_points   \n596          Rest_points                   0            Lu_points   \n597          Rest_points                   0            Lu_points   \n598          Rest_points                   0            Lu_points   \n599          Rest_points                   0            Lu_points   \n\n     Top-n Predicted Correct Lu_points Predicted Confidence  \\\n0                       True                     0.99999976   \n1                       True                      0.9999924   \n2                       True                            1.0   \n3                       True                      0.8912523   \n4                       True                      0.9995382   \n..                       ...                            ...   \n595                     True                  3.1693216e-05   \n596                     True                  4.5372553e-06   \n597                     True                  0.00048455322   \n598                     True                  4.9173814e-05   \n599                     True                   7.566821e-05   \n\n    Rest_points Predicted Confidence Traveling_points Predicted Confidence  \n0                      1.2542905e-07                         1.5533686e-07  \n1                      4.3758205e-06                         3.2701448e-06  \n2                      2.5510463e-09                         4.1091797e-11  \n3                         0.04733364                            0.06141406  \n4                      0.00029888484                         0.00016304948  \n..                               ...                                   ...  \n595                    0.00024140689                            0.99972683  \n596                     7.466141e-05                            0.99992085  \n597                     0.0007535603                             0.9987619  \n598                    0.00036875842                              0.999582  \n599                      0.001972099                             0.9979522  \n\n[600 rows x 10 columns]",
      "text/html": "<div>\n<style scoped>\n    .dataframe tbody tr th:only-of-type {\n        vertical-align: middle;\n    }\n\n    .dataframe tbody tr th {\n        vertical-align: top;\n    }\n\n    .dataframe thead th {\n        text-align: right;\n    }\n</style>\n<table border=\"1\" class=\"dataframe\">\n  <thead>\n    <tr style=\"text-align: right;\">\n      <th></th>\n      <th>Top-1 Predicted ID</th>\n      <th>Top-1 Predicted Name</th>\n      <th>Top-2 Predicted ID</th>\n      <th>Top-2 Predicted Name</th>\n      <th>Top-3 Predicted ID</th>\n      <th>Top-3 Predicted Name</th>\n      <th>Top-n Predicted Correct</th>\n      <th>Lu_points Predicted Confidence</th>\n      <th>Rest_points Predicted Confidence</th>\n      <th>Traveling_points Predicted Confidence</th>\n    </tr>\n  </thead>\n  <tbody>\n    <tr>\n      <th>0</th>\n      <td>0</td>\n      <td>Lu_points</td>\n      <td>2</td>\n      <td>Traveling_points</td>\n      <td>1</td>\n      <td>Rest_points</td>\n      <td>True</td>\n      <td>0.99999976</td>\n      <td>1.2542905e-07</td>\n      <td>1.5533686e-07</td>\n    </tr>\n    <tr>\n      <th>1</th>\n      <td>0</td>\n      <td>Lu_points</td>\n      <td>1</td>\n      <td>Rest_points</td>\n      <td>2</td>\n      <td>Traveling_points</td>\n      <td>True</td>\n      <td>0.9999924</td>\n      <td>4.3758205e-06</td>\n      <td>3.2701448e-06</td>\n    </tr>\n    <tr>\n      <th>2</th>\n      <td>0</td>\n      <td>Lu_points</td>\n      <td>1</td>\n      <td>Rest_points</td>\n      <td>2</td>\n      <td>Traveling_points</td>\n      <td>True</td>\n      <td>1.0</td>\n      <td>2.5510463e-09</td>\n      <td>4.1091797e-11</td>\n    </tr>\n    <tr>\n      <th>3</th>\n      <td>0</td>\n      <td>Lu_points</td>\n      <td>2</td>\n      <td>Traveling_points</td>\n      <td>1</td>\n      <td>Rest_points</td>\n      <td>True</td>\n      <td>0.8912523</td>\n      <td>0.04733364</td>\n      <td>0.06141406</td>\n    </tr>\n    <tr>\n      <th>4</th>\n      <td>0</td>\n      <td>Lu_points</td>\n      <td>1</td>\n      <td>Rest_points</td>\n      <td>2</td>\n      <td>Traveling_points</td>\n      <td>True</td>\n      <td>0.9995382</td>\n      <td>0.00029888484</td>\n      <td>0.00016304948</td>\n    </tr>\n    <tr>\n      <th>...</th>\n      <td>...</td>\n      <td>...</td>\n      <td>...</td>\n      <td>...</td>\n      <td>...</td>\n      <td>...</td>\n      <td>...</td>\n      <td>...</td>\n      <td>...</td>\n      <td>...</td>\n    </tr>\n    <tr>\n      <th>595</th>\n      <td>2</td>\n      <td>Traveling_points</td>\n      <td>1</td>\n      <td>Rest_points</td>\n      <td>0</td>\n      <td>Lu_points</td>\n      <td>True</td>\n      <td>3.1693216e-05</td>\n      <td>0.00024140689</td>\n      <td>0.99972683</td>\n    </tr>\n    <tr>\n      <th>596</th>\n      <td>2</td>\n      <td>Traveling_points</td>\n      <td>1</td>\n      <td>Rest_points</td>\n      <td>0</td>\n      <td>Lu_points</td>\n      <td>True</td>\n      <td>4.5372553e-06</td>\n      <td>7.466141e-05</td>\n      <td>0.99992085</td>\n    </tr>\n    <tr>\n      <th>597</th>\n      <td>2</td>\n      <td>Traveling_points</td>\n      <td>1</td>\n      <td>Rest_points</td>\n      <td>0</td>\n      <td>Lu_points</td>\n      <td>True</td>\n      <td>0.00048455322</td>\n      <td>0.0007535603</td>\n      <td>0.9987619</td>\n    </tr>\n    <tr>\n      <th>598</th>\n      <td>2</td>\n      <td>Traveling_points</td>\n      <td>1</td>\n      <td>Rest_points</td>\n      <td>0</td>\n      <td>Lu_points</td>\n      <td>True</td>\n      <td>4.9173814e-05</td>\n      <td>0.00036875842</td>\n      <td>0.999582</td>\n    </tr>\n    <tr>\n      <th>599</th>\n      <td>2</td>\n      <td>Traveling_points</td>\n      <td>1</td>\n      <td>Rest_points</td>\n      <td>0</td>\n      <td>Lu_points</td>\n      <td>True</td>\n      <td>7.566821e-05</td>\n      <td>0.001972099</td>\n      <td>0.9979522</td>\n    </tr>\n  </tbody>\n</table>\n<p>600 rows × 10 columns</p>\n</div>"
     },
     "execution_count": 61,
     "metadata": {},
     "output_type": "execute_result"
    }
   ],
   "source": [
    "df_pred"
   ],
   "metadata": {
    "collapsed": false,
    "pycharm": {
     "name": "#%%\n"
    }
   }
  },
  {
   "cell_type": "code",
   "execution_count": 62,
   "outputs": [],
   "source": [
    "df = pd.concat([df, df_pred], axis=1)"
   ],
   "metadata": {
    "collapsed": false,
    "pycharm": {
     "name": "#%%\n"
    }
   }
  },
  {
   "cell_type": "code",
   "execution_count": 63,
   "outputs": [
    {
     "data": {
      "text/plain": "                                            Image Path  Annotated Class ID  \\\n0    D:\\graduate\\经典代码\\代码学习\\poidata\\模型测试\\三分类\\数据集\\tra...                   0   \n1    D:\\graduate\\经典代码\\代码学习\\poidata\\模型测试\\三分类\\数据集\\tra...                   0   \n2    D:\\graduate\\经典代码\\代码学习\\poidata\\模型测试\\三分类\\数据集\\tra...                   0   \n3    D:\\graduate\\经典代码\\代码学习\\poidata\\模型测试\\三分类\\数据集\\tra...                   0   \n4    D:\\graduate\\经典代码\\代码学习\\poidata\\模型测试\\三分类\\数据集\\tra...                   0   \n..                                                 ...                 ...   \n595  D:\\graduate\\经典代码\\代码学习\\poidata\\模型测试\\三分类\\数据集\\tra...                   2   \n596  D:\\graduate\\经典代码\\代码学习\\poidata\\模型测试\\三分类\\数据集\\tra...                   2   \n597  D:\\graduate\\经典代码\\代码学习\\poidata\\模型测试\\三分类\\数据集\\tra...                   2   \n598  D:\\graduate\\经典代码\\代码学习\\poidata\\模型测试\\三分类\\数据集\\tra...                   2   \n599  D:\\graduate\\经典代码\\代码学习\\poidata\\模型测试\\三分类\\数据集\\tra...                   2   \n\n    Annotated Class Name  Top-1 Predicted ID Top-1 Predicted Name  \\\n0              Lu_points                   0            Lu_points   \n1              Lu_points                   0            Lu_points   \n2              Lu_points                   0            Lu_points   \n3              Lu_points                   0            Lu_points   \n4              Lu_points                   0            Lu_points   \n..                   ...                 ...                  ...   \n595     Traveling_points                   2     Traveling_points   \n596     Traveling_points                   2     Traveling_points   \n597     Traveling_points                   2     Traveling_points   \n598     Traveling_points                   2     Traveling_points   \n599     Traveling_points                   2     Traveling_points   \n\n     Top-2 Predicted ID Top-2 Predicted Name  Top-3 Predicted ID  \\\n0                     2     Traveling_points                   1   \n1                     1          Rest_points                   2   \n2                     1          Rest_points                   2   \n3                     2     Traveling_points                   1   \n4                     1          Rest_points                   2   \n..                  ...                  ...                 ...   \n595                   1          Rest_points                   0   \n596                   1          Rest_points                   0   \n597                   1          Rest_points                   0   \n598                   1          Rest_points                   0   \n599                   1          Rest_points                   0   \n\n    Top-3 Predicted Name  Top-n Predicted Correct  \\\n0            Rest_points                     True   \n1       Traveling_points                     True   \n2       Traveling_points                     True   \n3            Rest_points                     True   \n4       Traveling_points                     True   \n..                   ...                      ...   \n595            Lu_points                     True   \n596            Lu_points                     True   \n597            Lu_points                     True   \n598            Lu_points                     True   \n599            Lu_points                     True   \n\n    Lu_points Predicted Confidence Rest_points Predicted Confidence  \\\n0                       0.99999976                    1.2542905e-07   \n1                        0.9999924                    4.3758205e-06   \n2                              1.0                    2.5510463e-09   \n3                        0.8912523                       0.04733364   \n4                        0.9995382                    0.00029888484   \n..                             ...                              ...   \n595                  3.1693216e-05                    0.00024140689   \n596                  4.5372553e-06                     7.466141e-05   \n597                  0.00048455322                     0.0007535603   \n598                  4.9173814e-05                    0.00036875842   \n599                   7.566821e-05                      0.001972099   \n\n    Traveling_points Predicted Confidence  \n0                           1.5533686e-07  \n1                           3.2701448e-06  \n2                           4.1091797e-11  \n3                              0.06141406  \n4                           0.00016304948  \n..                                    ...  \n595                            0.99972683  \n596                            0.99992085  \n597                             0.9987619  \n598                              0.999582  \n599                             0.9979522  \n\n[600 rows x 13 columns]",
      "text/html": "<div>\n<style scoped>\n    .dataframe tbody tr th:only-of-type {\n        vertical-align: middle;\n    }\n\n    .dataframe tbody tr th {\n        vertical-align: top;\n    }\n\n    .dataframe thead th {\n        text-align: right;\n    }\n</style>\n<table border=\"1\" class=\"dataframe\">\n  <thead>\n    <tr style=\"text-align: right;\">\n      <th></th>\n      <th>Image Path</th>\n      <th>Annotated Class ID</th>\n      <th>Annotated Class Name</th>\n      <th>Top-1 Predicted ID</th>\n      <th>Top-1 Predicted Name</th>\n      <th>Top-2 Predicted ID</th>\n      <th>Top-2 Predicted Name</th>\n      <th>Top-3 Predicted ID</th>\n      <th>Top-3 Predicted Name</th>\n      <th>Top-n Predicted Correct</th>\n      <th>Lu_points Predicted Confidence</th>\n      <th>Rest_points Predicted Confidence</th>\n      <th>Traveling_points Predicted Confidence</th>\n    </tr>\n  </thead>\n  <tbody>\n    <tr>\n      <th>0</th>\n      <td>D:\\graduate\\经典代码\\代码学习\\poidata\\模型测试\\三分类\\数据集\\tra...</td>\n      <td>0</td>\n      <td>Lu_points</td>\n      <td>0</td>\n      <td>Lu_points</td>\n      <td>2</td>\n      <td>Traveling_points</td>\n      <td>1</td>\n      <td>Rest_points</td>\n      <td>True</td>\n      <td>0.99999976</td>\n      <td>1.2542905e-07</td>\n      <td>1.5533686e-07</td>\n    </tr>\n    <tr>\n      <th>1</th>\n      <td>D:\\graduate\\经典代码\\代码学习\\poidata\\模型测试\\三分类\\数据集\\tra...</td>\n      <td>0</td>\n      <td>Lu_points</td>\n      <td>0</td>\n      <td>Lu_points</td>\n      <td>1</td>\n      <td>Rest_points</td>\n      <td>2</td>\n      <td>Traveling_points</td>\n      <td>True</td>\n      <td>0.9999924</td>\n      <td>4.3758205e-06</td>\n      <td>3.2701448e-06</td>\n    </tr>\n    <tr>\n      <th>2</th>\n      <td>D:\\graduate\\经典代码\\代码学习\\poidata\\模型测试\\三分类\\数据集\\tra...</td>\n      <td>0</td>\n      <td>Lu_points</td>\n      <td>0</td>\n      <td>Lu_points</td>\n      <td>1</td>\n      <td>Rest_points</td>\n      <td>2</td>\n      <td>Traveling_points</td>\n      <td>True</td>\n      <td>1.0</td>\n      <td>2.5510463e-09</td>\n      <td>4.1091797e-11</td>\n    </tr>\n    <tr>\n      <th>3</th>\n      <td>D:\\graduate\\经典代码\\代码学习\\poidata\\模型测试\\三分类\\数据集\\tra...</td>\n      <td>0</td>\n      <td>Lu_points</td>\n      <td>0</td>\n      <td>Lu_points</td>\n      <td>2</td>\n      <td>Traveling_points</td>\n      <td>1</td>\n      <td>Rest_points</td>\n      <td>True</td>\n      <td>0.8912523</td>\n      <td>0.04733364</td>\n      <td>0.06141406</td>\n    </tr>\n    <tr>\n      <th>4</th>\n      <td>D:\\graduate\\经典代码\\代码学习\\poidata\\模型测试\\三分类\\数据集\\tra...</td>\n      <td>0</td>\n      <td>Lu_points</td>\n      <td>0</td>\n      <td>Lu_points</td>\n      <td>1</td>\n      <td>Rest_points</td>\n      <td>2</td>\n      <td>Traveling_points</td>\n      <td>True</td>\n      <td>0.9995382</td>\n      <td>0.00029888484</td>\n      <td>0.00016304948</td>\n    </tr>\n    <tr>\n      <th>...</th>\n      <td>...</td>\n      <td>...</td>\n      <td>...</td>\n      <td>...</td>\n      <td>...</td>\n      <td>...</td>\n      <td>...</td>\n      <td>...</td>\n      <td>...</td>\n      <td>...</td>\n      <td>...</td>\n      <td>...</td>\n      <td>...</td>\n    </tr>\n    <tr>\n      <th>595</th>\n      <td>D:\\graduate\\经典代码\\代码学习\\poidata\\模型测试\\三分类\\数据集\\tra...</td>\n      <td>2</td>\n      <td>Traveling_points</td>\n      <td>2</td>\n      <td>Traveling_points</td>\n      <td>1</td>\n      <td>Rest_points</td>\n      <td>0</td>\n      <td>Lu_points</td>\n      <td>True</td>\n      <td>3.1693216e-05</td>\n      <td>0.00024140689</td>\n      <td>0.99972683</td>\n    </tr>\n    <tr>\n      <th>596</th>\n      <td>D:\\graduate\\经典代码\\代码学习\\poidata\\模型测试\\三分类\\数据集\\tra...</td>\n      <td>2</td>\n      <td>Traveling_points</td>\n      <td>2</td>\n      <td>Traveling_points</td>\n      <td>1</td>\n      <td>Rest_points</td>\n      <td>0</td>\n      <td>Lu_points</td>\n      <td>True</td>\n      <td>4.5372553e-06</td>\n      <td>7.466141e-05</td>\n      <td>0.99992085</td>\n    </tr>\n    <tr>\n      <th>597</th>\n      <td>D:\\graduate\\经典代码\\代码学习\\poidata\\模型测试\\三分类\\数据集\\tra...</td>\n      <td>2</td>\n      <td>Traveling_points</td>\n      <td>2</td>\n      <td>Traveling_points</td>\n      <td>1</td>\n      <td>Rest_points</td>\n      <td>0</td>\n      <td>Lu_points</td>\n      <td>True</td>\n      <td>0.00048455322</td>\n      <td>0.0007535603</td>\n      <td>0.9987619</td>\n    </tr>\n    <tr>\n      <th>598</th>\n      <td>D:\\graduate\\经典代码\\代码学习\\poidata\\模型测试\\三分类\\数据集\\tra...</td>\n      <td>2</td>\n      <td>Traveling_points</td>\n      <td>2</td>\n      <td>Traveling_points</td>\n      <td>1</td>\n      <td>Rest_points</td>\n      <td>0</td>\n      <td>Lu_points</td>\n      <td>True</td>\n      <td>4.9173814e-05</td>\n      <td>0.00036875842</td>\n      <td>0.999582</td>\n    </tr>\n    <tr>\n      <th>599</th>\n      <td>D:\\graduate\\经典代码\\代码学习\\poidata\\模型测试\\三分类\\数据集\\tra...</td>\n      <td>2</td>\n      <td>Traveling_points</td>\n      <td>2</td>\n      <td>Traveling_points</td>\n      <td>1</td>\n      <td>Rest_points</td>\n      <td>0</td>\n      <td>Lu_points</td>\n      <td>True</td>\n      <td>7.566821e-05</td>\n      <td>0.001972099</td>\n      <td>0.9979522</td>\n    </tr>\n  </tbody>\n</table>\n<p>600 rows × 13 columns</p>\n</div>"
     },
     "execution_count": 63,
     "metadata": {},
     "output_type": "execute_result"
    }
   ],
   "source": [
    "df"
   ],
   "metadata": {
    "collapsed": false,
    "pycharm": {
     "name": "#%%\n"
    }
   }
  },
  {
   "cell_type": "code",
   "execution_count": 64,
   "outputs": [],
   "source": [
    "from sklearn.metrics import classification_report"
   ],
   "metadata": {
    "collapsed": false,
    "pycharm": {
     "name": "#%%\n"
    }
   }
  },
  {
   "cell_type": "code",
   "execution_count": 65,
   "outputs": [
    {
     "name": "stdout",
     "output_type": "stream",
     "text": [
      "                  precision    recall  f1-score   support\n",
      "\n",
      "       Lu_points       0.99      0.94      0.97       200\n",
      "     Rest_points       0.93      0.97      0.95       200\n",
      "Traveling_points       0.98      0.98      0.98       200\n",
      "\n",
      "        accuracy                           0.97       600\n",
      "       macro avg       0.97      0.97      0.97       600\n",
      "    weighted avg       0.97      0.97      0.97       600\n",
      "\n"
     ]
    }
   ],
   "source": [
    "print(classification_report(df['Annotated Class ID'], df['Top-1 Predicted ID'], target_names=classes))"
   ],
   "metadata": {
    "collapsed": false,
    "pycharm": {
     "name": "#%%\n"
    }
   }
  },
  {
   "cell_type": "code",
   "execution_count": 66,
   "outputs": [],
   "source": [
    "from sklearn.metrics import confusion_matrix,ConfusionMatrixDisplay"
   ],
   "metadata": {
    "collapsed": false,
    "pycharm": {
     "name": "#%%\n"
    }
   }
  },
  {
   "cell_type": "code",
   "execution_count": 67,
   "outputs": [],
   "source": [
    "confusion_matrix_model = confusion_matrix(df['Annotated Class ID'], df['Top-1 Predicted ID'])"
   ],
   "metadata": {
    "collapsed": false,
    "pycharm": {
     "name": "#%%\n"
    }
   }
  },
  {
   "cell_type": "code",
   "execution_count": 68,
   "outputs": [
    {
     "data": {
      "text/plain": "<Figure size 900x900 with 1 Axes>",
      "image/png": "[encoded data removed]"
     },
     "metadata": {},
     "output_type": "display_data"
    }
   ],
   "source": [
    "# Create a ConfusionMatrixDisplay object\n",
    "disp = ConfusionMatrixDisplay(confusion_matrix=confusion_matrix_model, display_labels=classes)\n",
    "\n",
    "# Visualize the confusion matrix using the ConfusionMatrixDisplay object\n",
    "fig, ax = plt.subplots(figsize=(3,3), dpi=300)\n",
    "disp.plot(\n",
    "    include_values=True,\n",
    "    cmap=\"Blues\",\n",
    "    ax=ax,\n",
    "    xticks_rotation=\"horizontal\",\n",
    "    values_format=\"d\",\n",
    "    colorbar=False\n",
    ")\n",
    "tick_marks = np.arange(len(classes))\n",
    "plt.tight_layout()\n",
    "plt.xticks(tick_marks, classes, rotation=90)\n",
    "ax.grid(False)\n",
    "\n",
    "plt.savefig('./confusion_resnet50.svg', dpi=300,bbox_inches='tight')\n",
    "plt.show()"
   ],
   "metadata": {
    "collapsed": false,
    "pycharm": {
     "name": "#%%\n"
    }
   }
  }
 ],
 "metadata": {
  "kernelspec": {
   "name": "conda-env-d2l-py",
   "language": "python",
   "display_name": "Python [conda env:d2l]"
  },
  "language_info": {
   "codemirror_mode": {
    "name": "ipython",
    "version": 2
   },
   "file_extension": ".py",
   "mimetype": "text/x-python",
   "name": "python",
   "nbconvert_exporter": "python",
   "pygments_lexer": "ipython2",
   "version": "2.7.6"
  }
 },
 "nbformat": 4,
 "nbformat_minor": 0
}